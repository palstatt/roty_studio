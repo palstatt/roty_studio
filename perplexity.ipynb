{
 "cells": [
  {
   "cell_type": "code",
   "execution_count": 27,
   "metadata": {},
   "outputs": [],
   "source": [
    "from nltk.lm import KneserNeyInterpolated\n",
    "from nltk.lm.preprocessing import padded_everygram_pipeline, flatten, pad_both_ends\n",
    "from nltk.util import everygrams\n",
    "from nltk import word_tokenize, sent_tokenize\n",
    "import numpy as np\n",
    "import pandas as pd\n",
    "import string"
   ]
  },
  {
   "cell_type": "markdown",
   "metadata": {},
   "source": [
    "## Read in lyrics data\n",
    "\n",
    "Song `The Art of Peer Pressure` chosen as an example of a narrative based rap.\n",
    "\n",
    "Song `Money Trees` chosen as an example of a non-narrative based rap."
   ]
  },
  {
   "cell_type": "code",
   "execution_count": 18,
   "metadata": {},
   "outputs": [],
   "source": [
    "df = pd.read_csv('songs_with_transcription.csv')"
   ]
  },
  {
   "cell_type": "code",
   "execution_count": 30,
   "metadata": {},
   "outputs": [],
   "source": [
    "lyrics = df[df['song_title'] == 'The Art of Peer Pressure']['lyrics'].values[0]\n",
    "lyrics_x = df[df['song_title'] == 'Money Trees']['lyrics'].values[0]"
   ]
  },
  {
   "cell_type": "markdown",
   "metadata": {},
   "source": [
    "## Define functions for training language model\n",
    "\n",
    "`KneserNeyInterpolated` uses an interpolated smoothing technique as defined by Chen & Goodman 1995 https://dash.harvard.edu/bitstream/handle/1/25104739/tr-10-98.pdf?sequence=1.\n",
    "\n",
    "Bigrams used but model scales to any ngram >=2."
   ]
  },
  {
   "cell_type": "code",
   "execution_count": 31,
   "metadata": {
    "scrolled": true
   },
   "outputs": [],
   "source": [
    "def text_by_line(lyrics):\n",
    "    return [list(map(str.lower, word_tokenize(sent))) for sent in lyrics.splitlines()]"
   ]
  },
  {
   "cell_type": "code",
   "execution_count": 32,
   "metadata": {},
   "outputs": [],
   "source": [
    "def make_training_data(lines):\n",
    "    test = lines[-1]\n",
    "    train = lines[:-1]\n",
    "    return test, train\n",
    "\n",
    "def perplexity_by_line(text, n):\n",
    "    perplexity_scores = []\n",
    "    lines = text_by_line(text)\n",
    "    \n",
    "    for i in range(2, len(lines)):\n",
    "        model = KneserNeyInterpolated(n)\n",
    "        \n",
    "        test_text, train_text = make_training_data(lines[:i])\n",
    "        \n",
    "        train_data, padded_sents_train = padded_everygram_pipeline(n, train_text)\n",
    "        test_data, padded_sents_test = padded_everygram_pipeline(n, test_text)\n",
    "        padded_bigrams = list(pad_both_ends(test_text, n=n))\n",
    "    \n",
    "        model.fit(train_data, padded_sents_train)\n",
    "        test = list(everygrams(padded_bigrams, max_len=n))\n",
    "        perp = model.perplexity(test)\n",
    "\n",
    "        perplexity_scores.append(perp)\n",
    "    \n",
    "    return perplexity_scores, model"
   ]
  },
  {
   "cell_type": "markdown",
   "metadata": {},
   "source": [
    "## Scores for narrative-based rap"
   ]
  },
  {
   "cell_type": "code",
   "execution_count": 33,
   "metadata": {
    "scrolled": true
   },
   "outputs": [
    {
     "data": {
      "text/plain": [
       "261.1545566044926"
      ]
     },
     "execution_count": 33,
     "metadata": {},
     "output_type": "execute_result"
    }
   ],
   "source": [
    "n = 2\n",
    "\n",
    "perplexity_scores, model = perplexity_by_line(lyrics, n)\n",
    "np.mean(perplexity_scores)"
   ]
  },
  {
   "cell_type": "code",
   "execution_count": 35,
   "metadata": {},
   "outputs": [
    {
     "data": {
      "text/plain": [
       "191.35127459625022"
      ]
     },
     "execution_count": 35,
     "metadata": {},
     "output_type": "execute_result"
    }
   ],
   "source": [
    "n = 2\n",
    "\n",
    "perplexity_scores_x, model_x = perplexity_by_line(lyrics_x, n)\n",
    "np.mean(perplexity_scores_x)"
   ]
  }
 ],
 "metadata": {
  "kernelspec": {
   "display_name": "Python 3.7.4 64-bit ('base': conda)",
   "language": "python",
   "name": "python37464bitbaseconda7bfcdc1bda1e418ca7dfa4ce995334aa"
  },
  "language_info": {
   "codemirror_mode": {
    "name": "ipython",
    "version": 3
   },
   "file_extension": ".py",
   "mimetype": "text/x-python",
   "name": "python",
   "nbconvert_exporter": "python",
   "pygments_lexer": "ipython3",
   "version": "3.7.6"
  },
  "varInspector": {
   "cols": {
    "lenName": 16,
    "lenType": 16,
    "lenVar": 40
   },
   "kernels_config": {
    "python": {
     "delete_cmd_postfix": "",
     "delete_cmd_prefix": "del ",
     "library": "var_list.py",
     "varRefreshCmd": "print(var_dic_list())"
    },
    "r": {
     "delete_cmd_postfix": ") ",
     "delete_cmd_prefix": "rm(",
     "library": "var_list.r",
     "varRefreshCmd": "cat(var_dic_list()) "
    }
   },
   "types_to_exclude": [
    "module",
    "function",
    "builtin_function_or_method",
    "instance",
    "_Feature"
   ],
   "window_display": false
  }
 },
 "nbformat": 4,
 "nbformat_minor": 4
}
